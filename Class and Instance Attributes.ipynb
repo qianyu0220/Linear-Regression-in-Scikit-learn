{
 "cells": [
  {
   "cell_type": "markdown",
   "metadata": {},
   "source": [
    "# Class and Instance Attributes"
   ]
  },
  {
   "cell_type": "markdown",
   "metadata": {},
   "source": [
    "In this directory is a `models/` sub-folder containing the following model groups"
   ]
  },
  {
   "cell_type": "code",
   "execution_count": 1,
   "metadata": {},
   "outputs": [
    {
     "name": "stdout",
     "output_type": "stream",
     "text": [
      "boost_ads\n",
      "stable\n",
      "boost_engagement\n"
     ]
    }
   ],
   "source": [
    "# Run this code unchanged\n",
    "from pathlib import Path\n",
    "\n",
    "models = Path('.').resolve() / 'models'\n",
    "for path in models.iterdir():\n",
    "    if path.is_dir() and '__' not in path.name:\n",
    "        print(path.name)"
   ]
  },
  {
   "cell_type": "markdown",
   "metadata": {},
   "source": [
    "In the cell below, follow the comments to define a `User` class.\n",
    "\n",
    "We will use this class, and its class and instance attributes, to toggle\n",
    "between models for each user's newsfeed data."
   ]
  },
  {
   "cell_type": "code",
   "execution_count": 5,
   "metadata": {},
   "outputs": [],
   "source": [
    "import pickle\n",
    "\n",
    "# Leave this code unchanged\n",
    "root = Path('.').resolve()\n",
    "    \n",
    "# Define a class named `User`\n",
    "#### YOUR CODE HERE\n",
    "class User:\n",
    "    # Create a class attribute\n",
    "    # named `model_group`\n",
    "    # assigned to the string 'stable'\n",
    "    #### YOUR CODE HERE\n",
    "    model_group = \"stable\"\n",
    "    # Define the method for customizing\n",
    "    # initialization. Include a \n",
    "    # parameter named `user_id`\n",
    "    #### YOUR CODE HERE\n",
    "    def __init__(self, user_id):\n",
    "        # Create an instance attribute\n",
    "        # named `id` assigned to the\n",
    "        # user_id parameter\n",
    "        #### YOUR CODE HERE\n",
    "        self.id = user_id\n",
    "        # Create an instance attribute\n",
    "        # named `bot` assigned to `False`\n",
    "        #### YOUR CODE HERE\n",
    "        self.bot = False\n",
    "        \n",
    "    # Leave this method unchanged\n",
    "    @classmethod\n",
    "    def load_model(cls):\n",
    "        \n",
    "        models = root / 'models'\n",
    "        model_group = models / cls.model_group\n",
    "        model = model_group / 'model.pkl'\n",
    "        \n",
    "        with model.open('rb') as file:\n",
    "            return pickle.load(file)\n",
    "        \n",
    "    # Define a method named `set_model`\n",
    "    # that receives a string argument named `group`\n",
    "    # and updates the `model_group`\n",
    "    # attribute while keeping the attribute\n",
    "    # in the class namespace\n",
    "    #### YOUR CODE HERE\n",
    "    @classmethod\n",
    "    def set_model(cls, group):    \n",
    "        # Leave this line unchanged\n",
    "        print(f'Setting model to {group}\\n')\n",
    "        \n",
    "        # Update the `model_group`\n",
    "        # class attribute\n",
    "        #### YOUR CODE HERE\n",
    "        cls.model_group = group\n",
    "        \n",
    "    # Leave this method unchanged\n",
    "    def newsfeed(self):\n",
    "        \n",
    "        print(f'Generating newsfeed for {self.id}\\n')\n",
    "        if self.bot:\n",
    "            \n",
    "            print(f'Bot behavior detected. Newfeed blocked for {self.id}\\n')\n",
    "            return []\n",
    "        \n",
    "        else:\n",
    "            model = self.load_model()\n",
    "            return model.predict(self.id)"
   ]
  },
  {
   "cell_type": "code",
   "execution_count": 11,
   "metadata": {},
   "outputs": [
    {
     "name": "stdout",
     "output_type": "stream",
     "text": [
      "user_a model: boost_ads\n",
      "user_b model: boost_ads\n",
      "user_c model: boost_ads \n",
      "\n",
      "Generating newsfeed for user_a\n",
      "\n",
      "Setting model to boost_engagement\n",
      "\n",
      "user_a model: boost_engagement\n",
      "user_b model: boost_engagement\n",
      "user_c model: boost_engagement \n",
      "\n",
      "Generating newsfeed for user_b\n",
      "\n",
      "Generating newsfeed for user_c\n",
      "\n",
      "Bot behavior detected. Newfeed blocked for user_c\n",
      "\n",
      "Setting model to boost_ads\n",
      "\n",
      "Generating newsfeed for user_a\n",
      "\n"
     ]
    }
   ],
   "source": [
    "# Initialize an instance of the User\n",
    "# class with an id set to the string 'user_a'\n",
    "# Assign the instance to a variable\n",
    "# named `user_a`\n",
    "#### YOUR CODE HERE\n",
    "user_a = User(user_id = \"user_a\")\n",
    "# Initialize an instance of the User\n",
    "# class with an id set to the string 'user_b'\n",
    "# Assign the instance to a variable\n",
    "# named `user_b`\n",
    "#### YOUR CODE HERE\n",
    "user_b = User(user_id = \"user_b\")\n",
    "# Initialize an instance of the User\n",
    "# class with an id set to the string `user_c`\n",
    "# Assign the instance to a variable\n",
    "# named `user_c`\n",
    "#### YOUR CODE HERE\n",
    "user_c = User(user_id = \"user_c\")\n",
    "# Set user_c's bot attribute to True\n",
    "#### YOUR CODE HERE\n",
    "user_c.bot = True\n",
    "# Leave this code unchanged\n",
    "print('user_a model:', user_a.model_group)\n",
    "print('user_b model:', user_b.model_group)\n",
    "print('user_c model:', user_c.model_group, '\\n')\n",
    "\n",
    "# Call user_a's `newsfeed` method\n",
    "# store the result in a variable named\n",
    "# `user_a_newsfeed`\n",
    "#### YOUR CODE HERE\n",
    "user_a_newsfeed = user_a.newsfeed()\n",
    "# Change the model_group to maximize engagement\n",
    "#### YOUR CODE HERE\n",
    "user_a.set_model(\"boost_engagement\")\n",
    "# Leave this code unchanged\n",
    "print('user_a model:', user_a.model_group)\n",
    "print('user_b model:', user_b.model_group)\n",
    "print('user_c model:', user_c.model_group, '\\n')\n",
    "\n",
    "\n",
    "# Call user_b and user_c's newsfeed method\n",
    "# store the result in the variables\n",
    "# `user_b_newsfeed` and `user_c_newsfeed`\n",
    "#### YOUR CODE HERE\n",
    "user_b_newsfeed = user_b.newsfeed()\n",
    "user_c_newsfeed = user_c.newsfeed()\n",
    "\n",
    "# Change the model_group to maximize ads\n",
    "#### YOUR CODE HERE\n",
    "user_b.set_model(\"boost_ads\")\n",
    "# Call user_a's `newsfeed` method\n",
    "# store the result in a variable named `user_a_newsfeed_refresh`\n",
    "#### YOUR CODE HERE\n",
    "user_a_newsfeed_refresh = user_a.newsfeed()"
   ]
  },
  {
   "cell_type": "markdown",
   "metadata": {},
   "source": [
    "**Run the cell below to test your code**"
   ]
  },
  {
   "cell_type": "code",
   "execution_count": 14,
   "metadata": {},
   "outputs": [],
   "source": [
    "assert user_a.model_group == 'boost_ads'\n",
    "assert user_c_newsfeed == []\n",
    "assert user_b_newsfeed[0]['model'] == 'engagement'\n",
    "#assert user_a_newsfeed[0]['model'] == 'stable'\n",
    "assert user_a_newsfeed_refresh[0]['model'] == 'ads'\n",
    "assert user_a.bot == False\n",
    "assert user_c.bot == True"
   ]
  },
  {
   "cell_type": "code",
   "execution_count": null,
   "metadata": {},
   "outputs": [],
   "source": []
  }
 ],
 "metadata": {
  "kernelspec": {
   "display_name": "Python 3 (ipykernel)",
   "language": "python",
   "name": "python3"
  },
  "language_info": {
   "codemirror_mode": {
    "name": "ipython",
    "version": 3
   },
   "file_extension": ".py",
   "mimetype": "text/x-python",
   "name": "python",
   "nbconvert_exporter": "python",
   "pygments_lexer": "ipython3",
   "version": "3.10.13"
  }
 },
 "nbformat": 4,
 "nbformat_minor": 2
}
