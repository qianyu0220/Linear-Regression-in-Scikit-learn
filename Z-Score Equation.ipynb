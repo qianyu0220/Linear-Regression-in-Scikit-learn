{
 "cells": [
  {
   "cell_type": "markdown",
   "metadata": {},
   "source": [
    "# Write a StandardScaler\n",
    "\n",
    "In this notebook you will build your own version of the `sklearn.preprocessing.StandardScaler` class.\n",
    "\n",
    "<br>\n",
    "<center><b>Z-Score Equation:</b></center>\n",
    "\n",
    "$$z = \\frac{\\text{value} - \\text{mean}}{\\text{standard deviation}}$$"
   ]
  },
  {
   "cell_type": "code",
   "execution_count": 4,
   "metadata": {},
   "outputs": [],
   "source": [
    "# Define a class named `StandardScaler`\n",
    "#### YOUR CODE HERE\n",
    "class StandardScaler():  \n",
    "    # Define a method named `fit`\n",
    "    # that receives a numpy array\n",
    "    # as an argument\n",
    "    #### YOUR CODE HERE\n",
    "    def fit(self, X):\n",
    "    \n",
    "        # Create an attribute named `mean`\n",
    "        # that is assigned to the output\n",
    "        # of the function <numpy array>.mean()\n",
    "        #### YOUR CODE HERE\n",
    "        self.mean = X.mean()\n",
    "        # Create an attribute named `std`\n",
    "        # that is assigned to the output\n",
    "        # of the <numpy array>.std() function\n",
    "        #### YOUR CODE HERE\n",
    "        self.std = X.std()\n",
    "    # Define a method  named `transform`\n",
    "    # that receives a numpy array\n",
    "    # as an argument\n",
    "    #### YOUR CODE HERE\n",
    "    def transform(self, X):\n",
    "        \n",
    "        # Calculate the numerator of the z-score\n",
    "        # equation. Assign the result to a variable\n",
    "        #### YOUR CODE HERE\n",
    "        numerator = X - self.mean\n",
    "        # Divide the numerator by the std attribute\n",
    "        # and return the result\n",
    "        #### YOUR CODE HERE\n",
    "        return numerator / self.std\n",
    "    # Define a method named `fit_transform`\n",
    "    # that receives a numpy array as an argument\n",
    "    #### YOUR CODE HERE\n",
    "    def fit_transform(self, X):\n",
    "        # Pass the numpy array to the `fit` method\n",
    "        #### YOUR CODE HERE\n",
    "        self.fit(X)\n",
    "        # Pass the numpy array to the `transform` method\n",
    "        # return the result\n",
    "        #### YOUR CODE HERE\n",
    "        \n",
    "        return self.transform(X)"
   ]
  },
  {
   "cell_type": "markdown",
   "metadata": {},
   "source": [
    "**Run the cell below to test your code**"
   ]
  },
  {
   "cell_type": "code",
   "execution_count": 6,
   "metadata": {},
   "outputs": [],
   "source": [
    "import numpy as np\n",
    "from types import MethodType\n",
    "\n",
    "scaler = StandardScaler()\n",
    "assert hasattr(scaler, 'fit'), 'Class is missing a `fit` method'\n",
    "assert isinstance(scaler.fit, MethodType), f'The .fit attribute has a type of {type(scaler.fit)}, but should be a Method!'\n",
    "\n",
    "dataset = np.array([\n",
    "    [0.5405543434579712, 6.767341665296328, 90.6897158928792],\n",
    "    [-0.29000993889047794, 5.849704777885534, 99.19590372182654],\n",
    "    [0.6763437338934495, 6.169540754440513, 85.03635663583731],\n",
    "    [0.6714690951292838, 2.9896070294306325, 73.91859462050795],\n",
    "    [4.359870891609998, 4.244068964569745, 106.8061998877242]\n",
    "    ])\n",
    "\n",
    "\n",
    "solution = np.array([\n",
    "    [-0.7608421010648407, -0.6126428983288955, 1.3847320414921624],\n",
    "    [-0.7806097530020282, -0.6344829015418565, 1.5871815856015348],\n",
    "    [-0.7576102772747523, -0.6268707198048181, 1.2501805799808463],\n",
    "    [-0.7577262949803742, -0.7025539924849062, 0.9855748721383393],\n",
    "    [-0.6699413462811966, -0.6726974630996501, 1.7683086686504348]\n",
    "    ])\n",
    "\n",
    "scaler_output = scaler.fit_transform(dataset)\n",
    "\n",
    "assert (scaler_output == solution).all(), 'Calculation returned incorrect results'\n"
   ]
  },
  {
   "cell_type": "code",
   "execution_count": null,
   "metadata": {},
   "outputs": [],
   "source": []
  }
 ],
 "metadata": {
  "kernelspec": {
   "display_name": "Python 3 (ipykernel)",
   "language": "python",
   "name": "python3"
  },
  "language_info": {
   "codemirror_mode": {
    "name": "ipython",
    "version": 3
   },
   "file_extension": ".py",
   "mimetype": "text/x-python",
   "name": "python",
   "nbconvert_exporter": "python",
   "pygments_lexer": "ipython3",
   "version": "3.10.13"
  }
 },
 "nbformat": 4,
 "nbformat_minor": 2
}
