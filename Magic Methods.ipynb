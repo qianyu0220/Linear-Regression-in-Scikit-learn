{
 "cells": [
  {
   "cell_type": "markdown",
   "metadata": {},
   "source": [
    "# Magic Methods\n",
    "\n",
    "In this notebook you will use magic methods to develop a class for visualizing data.\n",
    "\n",
    "This notebook describes what the magic method does, but does not provide the method's name. Use the following documentation to find correct method: [List of magic methods](https://rszalski.github.io/magicmethods/#numeric)"
   ]
  },
  {
   "cell_type": "code",
   "execution_count": 8,
   "metadata": {},
   "outputs": [],
   "source": [
    "import matplotlib.pyplot as plt\n",
    "\n",
    "\n",
    "# Define a class named `Point`\n",
    "#### YOUR CODE HERE\n",
    "class Point:    \n",
    "    # Define the magic method\n",
    "    # for custom instance initialization\n",
    "    # with parameters `x` and `y` \n",
    "   #### YOUR CODE HERE\n",
    "    def __init__(self, x, y):\n",
    "        # Set x and y instance attributes\n",
    "        #### YOUR CODE HERE\n",
    "        self.x = x\n",
    "        self.y = y\n",
    "    \n",
    "    # Define a magic method that\n",
    "    # allows an instance to be called\n",
    "    # like a function\n",
    "    #### YOUR CODE HERE\n",
    "    def __call__(self):\n",
    "\n",
    "        # Use plt.scatter to plot\n",
    "        # the x and y coordinates\n",
    "        # for the instance\n",
    "        #### YOUR CODE HERE\n",
    "        plt.scatter(self.x, self.y)\n",
    "    \n",
    "    # Define a magic method that\n",
    "    # allows an instance to be added\n",
    "    # using the `+` operator\n",
    "    #### YOUR CODE HERE\n",
    "    def __add__(self, other):     \n",
    "        # Return a new instance of a Point\n",
    "        # that adds self.x and other.x\n",
    "        # and self.y and other.y\n",
    "        #### YOUR CODE HERE\n",
    "        return Point(self.x + other.x, self.y + other.y)\n",
    "    \n",
    "    # Define a magic method that\n",
    "    # allows an instance to be subtracted\n",
    "    # using the `-` operator\n",
    "    #### YOUR CODE HERE\n",
    "    def __sub__(self, other):\n",
    "        # Return a new instance of a Point\n",
    "        # that subtracts self.x and other.x\n",
    "        # and self.y and other.y\n",
    "        #### YOUR CODE HERE\n",
    "        return Point(self.x-other.x, self.y-other.y)\n",
    "    # Define a magic method that\n",
    "    # uses the `>>` operator.\n",
    "    #### YOUR CODE HERE\n",
    "    def __rshift__(self, other):    \n",
    "        # Return an instance \n",
    "        # of a Line (Defined below)\n",
    "        #### YOUR CODE HERE\n",
    "        return Line(self, other)\n",
    "    \n",
    "# Leave this class unchanged \n",
    "class Line:\n",
    "    \n",
    "    def __init__(self, point1, point2):\n",
    "        self.point1 = point1\n",
    "        self.point2 = point2\n",
    "        \n",
    "    def __call__(self):\n",
    "        \n",
    "        x = self.point1.x, self.point2.x\n",
    "        y = self.point1.y, self.point2.y\n",
    "        \n",
    "        return plt.plot(x,y)\n",
    "    \n",
    "    def __repr__(self):\n",
    "        return f'Line(({self.point1.x}, {self.point1.y}), ({self.point2.x}, {self.point2.y}))'\n",
    "  \n",
    "   "
   ]
  },
  {
   "cell_type": "markdown",
   "metadata": {},
   "source": [
    "**Run the cell below to tests your code**"
   ]
  },
  {
   "cell_type": "code",
   "execution_count": 9,
   "metadata": {},
   "outputs": [
    {
     "data": {
      "image/png": "[encoded data removed]",
      "text/plain": [
       "<Figure size 640x480 with 1 Axes>"
      ]
     },
     "metadata": {},
     "output_type": "display_data"
    }
   ],
   "source": [
    "point_1 = Point(0,0)\n",
    "point_2 = Point(1,0)\n",
    "point_3 = Point(1,1)\n",
    "point_4 = Point(0,1)\n",
    "\n",
    "addition = point_1 + point_2\n",
    "assert isinstance(addition, Point)\n",
    "assert addition.x == 1\n",
    "assert addition.y == 0\n",
    "\n",
    "\n",
    "line1 = point_1 >> point_2\n",
    "line2 = point_2 >> point_3\n",
    "line3 = point_3 >> point_4\n",
    "line4 = point_4 >> point_1\n",
    "\n",
    "assert isinstance(line1, Line)\n",
    "\n",
    "point_1()\n",
    "point_2()\n",
    "point_3()\n",
    "point_4();\n"
   ]
  },
  {
   "cell_type": "code",
   "execution_count": 10,
   "metadata": {},
   "outputs": [
    {
     "data": {
      "text/plain": [
       "[<matplotlib.lines.Line2D at 0x7f18ba517ca0>]"
      ]
     },
     "execution_count": 10,
     "metadata": {},
     "output_type": "execute_result"
    },
    {
     "data": {
      "image/png": "[encoded data removed]",
      "text/plain": [
       "<Figure size 640x480 with 1 Axes>"
      ]
     },
     "metadata": {},
     "output_type": "display_data"
    }
   ],
   "source": [
    "line1()\n",
    "line2()\n",
    "line3()\n",
    "line4()"
   ]
  },
  {
   "cell_type": "code",
   "execution_count": null,
   "metadata": {},
   "outputs": [],
   "source": [
    "line4();"
   ]
  },
  {
   "cell_type": "code",
   "execution_count": null,
   "metadata": {},
   "outputs": [],
   "source": []
  }
 ],
 "metadata": {
  "kernelspec": {
   "display_name": "Python 3 (ipykernel)",
   "language": "python",
   "name": "python3"
  },
  "language_info": {
   "codemirror_mode": {
    "name": "ipython",
    "version": 3
   },
   "file_extension": ".py",
   "mimetype": "text/x-python",
   "name": "python",
   "nbconvert_exporter": "python",
   "pygments_lexer": "ipython3",
   "version": "3.10.13"
  }
 },
 "nbformat": 4,
 "nbformat_minor": 2
}
