{
 "cells": [
  {
   "cell_type": "markdown",
   "metadata": {},
   "source": [
    "## Class & Instance Namespace\n"
   ]
  },
  {
   "cell_type": "code",
   "execution_count": 6,
   "metadata": {},
   "outputs": [],
   "source": [
    "# Define a class name `House`\n",
    "#### YOUR CODE HERE\n",
    "class House:\n",
    "    # Set a class attribute\n",
    "    # named `color`\n",
    "    # assigned to 'unpainted'\n",
    "    #### YOUR CODE HERE\n",
    "    color = \"unpainted\"\n",
    "    # Set a class attribute\n",
    "    # named `yard` assigned\n",
    "    # to an empty list\n",
    "    #### YOUR CODE HERE\n",
    "    yard = []\n",
    "    # Define a method named `paint`\n",
    "    # include an argument named `color`\n",
    "    #### YOUR CODE HERE\n",
    "    def paint(self, color):\n",
    "        # Update the instance's \n",
    "        # `color` attribute\n",
    "        #### YOUR CODE HERE\n",
    "        self.color = color\n",
    "    \n",
    "    # Define a method named `add_tree`\n",
    "    #### YOUR CODE HERE\n",
    "    def add_tree(self):\n",
    "        # Append the string 'tree'\n",
    "        # to the `yard` attribute\n",
    "        #### YOUR CODE HERE\n",
    "        self.yard.append('tree')\n",
    "    # Define a method named `add_swing_set`\n",
    "    #### YOUR CODE HERE\n",
    "    def add_swing_set(self):\n",
    "        # Create a variable named `new_yard`\n",
    "        # By adding the yard attribute to \n",
    "        # the list `['swing set']`\n",
    "        #### YOUR CODE HERE\n",
    "        new_yard = self.yard + ['swing set']\n",
    "        # Assign the `yard` attribute\n",
    "        # to the `new_yard` variable\n",
    "        #### YOUR CODE HERE\n",
    "        self.yard = new_yard"
   ]
  },
  {
   "cell_type": "markdown",
   "metadata": {},
   "source": [
    "Let's create two houses, and compare them"
   ]
  },
  {
   "cell_type": "code",
   "execution_count": 7,
   "metadata": {},
   "outputs": [],
   "source": [
    "# Intialize two instances of \n",
    "# the House class. Assign to variables\n",
    "# `house_1` and `house_2`\n",
    "#### YOUR CODE HERE\n",
    "house_1, house_2 = House(), House()"
   ]
  },
  {
   "cell_type": "code",
   "execution_count": 8,
   "metadata": {},
   "outputs": [
    {
     "name": "stdout",
     "output_type": "stream",
     "text": [
      "House attributes when the house is built\n",
      "-----------------------------------\n",
      "House 1 color: unpainted\n",
      "House 1 yard: []\n",
      "-----------------------------------\n",
      "House 2 color: unpainted\n",
      "House 2 yard: []\n",
      "-----------------------------------\n"
     ]
    }
   ],
   "source": [
    "from utils import report_houses\n",
    "print('House attributes when the house is built')\n",
    "report_houses(house_1, house_2)"
   ]
  },
  {
   "cell_type": "markdown",
   "metadata": {},
   "source": [
    "When we build our two houses, they both have the same attributes\n",
    "\n",
    "Let's paint a single house"
   ]
  },
  {
   "cell_type": "code",
   "execution_count": 9,
   "metadata": {},
   "outputs": [
    {
     "name": "stdout",
     "output_type": "stream",
     "text": [
      ".............Painting house_1 orange.............\n",
      "-----------------------------------\n",
      "House 1 color: orange\n",
      "House 1 yard: []\n",
      "-----------------------------------\n",
      "House 2 color: unpainted\n",
      "House 2 yard: []\n",
      "-----------------------------------\n"
     ]
    }
   ],
   "source": [
    "print('.............Painting house_1 orange.............')\n",
    "house_1.paint('orange')\n",
    "report_houses(house_1, house_2)"
   ]
  },
  {
   "cell_type": "markdown",
   "metadata": {},
   "source": [
    "We painted `house_1` orange, and only `house_1` is orange. \n",
    "\n",
    "Now lets add a tree to `house_1`'s yard"
   ]
  },
  {
   "cell_type": "code",
   "execution_count": 10,
   "metadata": {},
   "outputs": [
    {
     "name": "stdout",
     "output_type": "stream",
     "text": [
      ".............Add tree.............\n",
      "-----------------------------------\n",
      "House 1 color: orange\n",
      "House 1 yard: ['tree']\n",
      "-----------------------------------\n",
      "House 2 color: unpainted\n",
      "House 2 yard: ['tree']\n",
      "-----------------------------------\n"
     ]
    }
   ],
   "source": [
    "print('.............Add tree.............')\n",
    "house_1.add_tree()\n",
    "report_houses(house_1, house_2)"
   ]
  },
  {
   "cell_type": "markdown",
   "metadata": {},
   "source": [
    "We added a tree to house_1's yard, and by doing so also added a tree to house_2's yard.\n",
    "\n",
    "Let's add a swing set to house_1's yard."
   ]
  },
  {
   "cell_type": "code",
   "execution_count": 11,
   "metadata": {},
   "outputs": [
    {
     "name": "stdout",
     "output_type": "stream",
     "text": [
      ".............Add swing set.............\n",
      "-----------------------------------\n",
      "House 1 color: orange\n",
      "House 1 yard: ['tree', 'swing set']\n",
      "-----------------------------------\n",
      "House 2 color: unpainted\n",
      "House 2 yard: ['tree']\n",
      "-----------------------------------\n"
     ]
    }
   ],
   "source": [
    "print('.............Add swing set.............')\n",
    "house_1.add_swing_set()\n",
    "report_houses(house_1, house_2)"
   ]
  },
  {
   "cell_type": "code",
   "execution_count": 12,
   "metadata": {},
   "outputs": [
    {
     "name": "stdout",
     "output_type": "stream",
     "text": [
      ".............Add another tree.............\n",
      "-----------------------------------\n",
      "House 1 color: orange\n",
      "House 1 yard: ['tree', 'swing set', 'tree']\n",
      "-----------------------------------\n",
      "House 2 color: unpainted\n",
      "House 2 yard: ['tree']\n",
      "-----------------------------------\n"
     ]
    }
   ],
   "source": [
    "print('.............Add another tree.............')\n",
    "house_1.add_tree()\n",
    "report_houses(house_1, house_2)"
   ]
  },
  {
   "cell_type": "code",
   "execution_count": 13,
   "metadata": {},
   "outputs": [
    {
     "name": "stdout",
     "output_type": "stream",
     "text": [
      "unpainted\n",
      "['tree']\n"
     ]
    }
   ],
   "source": [
    "new_house = House()\n",
    "\n",
    "print(new_house.color)\n",
    "print(new_house.yard)"
   ]
  },
  {
   "cell_type": "code",
   "execution_count": 14,
   "metadata": {},
   "outputs": [
    {
     "name": "stdout",
     "output_type": "stream",
     "text": [
      "True\n",
      "True\n",
      "False\n",
      "False\n",
      "True\n",
      "True\n"
     ]
    }
   ],
   "source": [
    "print(id(new_house.color) == id(House.color))\n",
    "print(id(new_house.yard) == id(House.yard))\n",
    "print(id(house_1.color) == id(House.color))\n",
    "print(id(house_1.yard) == id(House.yard))\n",
    "print(id(house_2.color) == id(House.color))\n",
    "print(id(house_2.yard) == id(House.yard))"
   ]
  },
  {
   "cell_type": "code",
   "execution_count": 15,
   "metadata": {},
   "outputs": [],
   "source": [
    "class House:\n",
    "    \n",
    "    color = 'unpainted'\n",
    "    \n",
    "    def paint(self, color):\n",
    "        self.color = color\n",
    "    \n",
    "    @classmethod\n",
    "    def paint_unpainted_houses(cls, color):\n",
    "        cls.color = color"
   ]
  },
  {
   "cell_type": "code",
   "execution_count": 16,
   "metadata": {},
   "outputs": [
    {
     "name": "stdout",
     "output_type": "stream",
     "text": [
      "A: unpainted\n",
      "B: unpainted\n",
      "C: unpainted\n",
      "-----------------------\n",
      "Paint house A orange\n",
      "A: orange\n",
      "B: unpainted\n",
      "C: unpainted\n",
      "-----------------------\n",
      "Paint unpainted houses Blue\n",
      "A: orange\n",
      "B: blue\n",
      "C: blue\n",
      "Newly built house: blue\n"
     ]
    }
   ],
   "source": [
    "house_a = House()\n",
    "house_b = House()\n",
    "house_c = House()\n",
    "\n",
    "print('A:', house_a.color)\n",
    "print('B:', house_b.color)\n",
    "print('C:', house_c.color)\n",
    "print('-----------------------')\n",
    "print('Paint house A orange')\n",
    "\n",
    "house_a.paint('orange')\n",
    "\n",
    "print('A:', house_a.color)\n",
    "print('B:', house_b.color)\n",
    "print('C:', house_c.color)\n",
    "\n",
    "house_a.paint_unpainted_houses('blue')\n",
    "print('-----------------------')\n",
    "print('Paint unpainted houses Blue')\n",
    "print('A:', house_a.color)\n",
    "print('B:', house_b.color)\n",
    "print('C:', house_c.color)\n",
    "print('Newly built house:', House().color)"
   ]
  },
  {
   "cell_type": "code",
   "execution_count": 17,
   "metadata": {},
   "outputs": [
    {
     "data": {
      "text/plain": [
       "'blue'"
      ]
     },
     "execution_count": 17,
     "metadata": {},
     "output_type": "execute_result"
    }
   ],
   "source": [
    "House.color"
   ]
  },
  {
   "cell_type": "code",
   "execution_count": null,
   "metadata": {},
   "outputs": [],
   "source": []
  }
 ],
 "metadata": {
  "kernelspec": {
   "display_name": "Python 3 (ipykernel)",
   "language": "python",
   "name": "python3"
  },
  "language_info": {
   "codemirror_mode": {
    "name": "ipython",
    "version": 3
   },
   "file_extension": ".py",
   "mimetype": "text/x-python",
   "name": "python",
   "nbconvert_exporter": "python",
   "pygments_lexer": "ipython3",
   "version": "3.10.13"
  }
 },
 "nbformat": 4,
 "nbformat_minor": 2
}
